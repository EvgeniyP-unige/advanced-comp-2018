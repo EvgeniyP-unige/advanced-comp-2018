{
 "cells": [
  {
   "cell_type": "code",
   "execution_count": 1,
   "metadata": {},
   "outputs": [],
   "source": [
    "\n",
    "%config InlineBackend.figure_format='retina'\n",
    "%matplotlib inline\n",
    "\n",
    "import numpy as np\n",
    "import pandas as pd\n",
    "\n",
    "np.random.seed(123)\n",
    "import matplotlib.pyplot as plt\n",
    "plt.rcParams[\"figure.figsize\"] = (8, 8)\n",
    "plt.rcParams[\"font.size\"] = 14\n",
    "from sklearn.utils import check_random_state\n",
    "\n",
    "\n",
    "\n"
   ]
  },
  {
   "cell_type": "markdown",
   "metadata": {},
   "source": [
    "Question 1:"
   ]
  },
  {
   "cell_type": "code",
   "execution_count": 13,
   "metadata": {},
   "outputs": [
    {
     "name": "stdout",
     "output_type": "stream",
     "text": [
      "0.9875\n",
      "0.9875\n"
     ]
    }
   ],
   "source": [
    "from sklearn.ensemble import RandomForestClassifier\n",
    "from sklearn.tree import DecisionTreeClassifier\n",
    "from sklearn.datasets import make_blobs\n",
    "\n",
    "from sklearn.model_selection import train_test_split\n",
    "\n",
    "\n",
    "labels = [\"b\", \"r\"]\n",
    "X, y = make_blobs(n_samples=400, centers=23,n_features=5, random_state=42)\n",
    "y = np.take(labels, (y < 10))\n",
    "\n",
    "X_train, X_test, y_train, y_test = train_test_split(X, y, test_size = 0.2, random_state = 0)\n",
    "\n",
    "\n",
    "rfc = RandomForestClassifier(n_estimators=20, bootstrap=False, max_features=5)\n",
    "rfc.fit(X_train,y_train)\n",
    "\n",
    "dtc = DecisionTreeClassifier(max_features=5)\n",
    "dtc.fit(X_train,y_train)\n",
    "\n",
    "\n",
    "print(rfc.score(X_test,y_test))\n",
    "print(dtc.score(X_test,y_test))\n"
   ]
  },
  {
   "cell_type": "markdown",
   "metadata": {},
   "source": [
    "We built a forest made of the same trees by disabling bootstrap and considering all the features of the 'toy' dataset\n",
    "Forest composed this way behaves like a single tree (the accuracy is the same)"
   ]
  },
  {
   "cell_type": "code",
   "execution_count": 30,
   "metadata": {},
   "outputs": [],
   "source": [
    "rfc = RandomForestClassifier(n_estimators=20, max_features=5)\n",
    "rfc.fit(X_train,y_train);\n"
   ]
  },
  {
   "cell_type": "code",
   "execution_count": 31,
   "metadata": {},
   "outputs": [
    {
     "name": "stdout",
     "output_type": "stream",
     "text": [
      "0.7970309646824358\n"
     ]
    }
   ],
   "source": [
    "from scipy.stats.stats import pearsonr\n",
    "tree_9 = rfc.estimators_[8].predict(X_test)\n",
    "ytest_15 = rfc.estimators_[14].predict(X_test)\n",
    "pr=pearsonr(tree_9, ytest_15)\n",
    "print(pr[0])"
   ]
  },
  {
   "cell_type": "markdown",
   "metadata": {},
   "source": [
    "To check whether trees in the same forest are not completely correlated we pick two random trees and did prediction on the test dataset; For the results of these predictions we calculated Pearson correlation coefficient and got value < 1 => trees are not completelty correlated because this time we enabled bootstraping "
   ]
  },
  {
   "cell_type": "markdown",
   "metadata": {},
   "source": [
    "Random forest on Bank Marketing dataset"
   ]
  },
  {
   "cell_type": "code",
   "execution_count": 32,
   "metadata": {},
   "outputs": [],
   "source": [
    "data= pd.read_csv('C:/Users/Evgeniy/Desktop/Advanced computing/bank-additional-full.csv',sep=';')\n",
    "var_names=data.columns.tolist()\n",
    "categ=['job','marital','education','default','housing','loan','contact','month','day_of_week','poutcome','y']\n",
    "quantit=[i for i in var_names if i not in categ]\n",
    "\n",
    "job=pd.get_dummies(data['job'])\n",
    "marital = pd.get_dummies(data['marital'])\n",
    "education = pd.get_dummies(data['education'])\n",
    "default = pd.get_dummies(data['default'])\n",
    "housing = pd.get_dummies(data['housing'])\n",
    "loan = pd.get_dummies(data['loan'])\n",
    "contact = pd.get_dummies(data['contact'])\n",
    "month = pd.get_dummies(data['month'])\n",
    "day = pd.get_dummies(data['day_of_week'])\n",
    "poutcome = pd.get_dummies(data['poutcome'])\n",
    "\n",
    "dict_map=dict()\n",
    "y_map={'yes':1, 'no': 0}\n",
    "dict_map['y']=y_map\n",
    "data=data.replace(dict_map)\n",
    "label=data['y']\n",
    "\n",
    "df1 = data[quantit]\n",
    "df1_names = df1.keys().tolist()\n",
    "\n",
    "\n",
    "df1 = pd.DataFrame(df1)\n",
    "df1.columns = df1_names\n",
    "\n",
    "banking = pd.concat([df1,\n",
    "                      job,\n",
    "                      marital,\n",
    "                      education,\n",
    "                      default,\n",
    "                      housing,\n",
    "                      loan,\n",
    "                      contact,\n",
    "                      month,\n",
    "                      day,\n",
    "                      poutcome,\n",
    "                      label], axis=1)\n",
    "\n",
    "#banking.to_csv('bank_cleaned.csv', index = False)\n"
   ]
  },
  {
   "cell_type": "markdown",
   "metadata": {},
   "source": [
    "Banking data after processing"
   ]
  },
  {
   "cell_type": "code",
   "execution_count": 33,
   "metadata": {},
   "outputs": [
    {
     "data": {
      "text/html": [
       "<div>\n",
       "<style scoped>\n",
       "    .dataframe tbody tr th:only-of-type {\n",
       "        vertical-align: middle;\n",
       "    }\n",
       "\n",
       "    .dataframe tbody tr th {\n",
       "        vertical-align: top;\n",
       "    }\n",
       "\n",
       "    .dataframe thead th {\n",
       "        text-align: right;\n",
       "    }\n",
       "</style>\n",
       "<table border=\"1\" class=\"dataframe\">\n",
       "  <thead>\n",
       "    <tr style=\"text-align: right;\">\n",
       "      <th></th>\n",
       "      <th>age</th>\n",
       "      <th>duration</th>\n",
       "      <th>campaign</th>\n",
       "      <th>pdays</th>\n",
       "      <th>previous</th>\n",
       "      <th>emp.var.rate</th>\n",
       "      <th>cons.price.idx</th>\n",
       "      <th>cons.conf.idx</th>\n",
       "      <th>euribor3m</th>\n",
       "      <th>nr.employed</th>\n",
       "      <th>...</th>\n",
       "      <th>sep</th>\n",
       "      <th>fri</th>\n",
       "      <th>mon</th>\n",
       "      <th>thu</th>\n",
       "      <th>tue</th>\n",
       "      <th>wed</th>\n",
       "      <th>failure</th>\n",
       "      <th>nonexistent</th>\n",
       "      <th>success</th>\n",
       "      <th>y</th>\n",
       "    </tr>\n",
       "  </thead>\n",
       "  <tbody>\n",
       "    <tr>\n",
       "      <th>0</th>\n",
       "      <td>56</td>\n",
       "      <td>261</td>\n",
       "      <td>1</td>\n",
       "      <td>999</td>\n",
       "      <td>0</td>\n",
       "      <td>1.1</td>\n",
       "      <td>93.994</td>\n",
       "      <td>-36.4</td>\n",
       "      <td>4.857</td>\n",
       "      <td>5191.0</td>\n",
       "      <td>...</td>\n",
       "      <td>0</td>\n",
       "      <td>0</td>\n",
       "      <td>1</td>\n",
       "      <td>0</td>\n",
       "      <td>0</td>\n",
       "      <td>0</td>\n",
       "      <td>0</td>\n",
       "      <td>1</td>\n",
       "      <td>0</td>\n",
       "      <td>0</td>\n",
       "    </tr>\n",
       "    <tr>\n",
       "      <th>1</th>\n",
       "      <td>57</td>\n",
       "      <td>149</td>\n",
       "      <td>1</td>\n",
       "      <td>999</td>\n",
       "      <td>0</td>\n",
       "      <td>1.1</td>\n",
       "      <td>93.994</td>\n",
       "      <td>-36.4</td>\n",
       "      <td>4.857</td>\n",
       "      <td>5191.0</td>\n",
       "      <td>...</td>\n",
       "      <td>0</td>\n",
       "      <td>0</td>\n",
       "      <td>1</td>\n",
       "      <td>0</td>\n",
       "      <td>0</td>\n",
       "      <td>0</td>\n",
       "      <td>0</td>\n",
       "      <td>1</td>\n",
       "      <td>0</td>\n",
       "      <td>0</td>\n",
       "    </tr>\n",
       "    <tr>\n",
       "      <th>2</th>\n",
       "      <td>37</td>\n",
       "      <td>226</td>\n",
       "      <td>1</td>\n",
       "      <td>999</td>\n",
       "      <td>0</td>\n",
       "      <td>1.1</td>\n",
       "      <td>93.994</td>\n",
       "      <td>-36.4</td>\n",
       "      <td>4.857</td>\n",
       "      <td>5191.0</td>\n",
       "      <td>...</td>\n",
       "      <td>0</td>\n",
       "      <td>0</td>\n",
       "      <td>1</td>\n",
       "      <td>0</td>\n",
       "      <td>0</td>\n",
       "      <td>0</td>\n",
       "      <td>0</td>\n",
       "      <td>1</td>\n",
       "      <td>0</td>\n",
       "      <td>0</td>\n",
       "    </tr>\n",
       "    <tr>\n",
       "      <th>3</th>\n",
       "      <td>40</td>\n",
       "      <td>151</td>\n",
       "      <td>1</td>\n",
       "      <td>999</td>\n",
       "      <td>0</td>\n",
       "      <td>1.1</td>\n",
       "      <td>93.994</td>\n",
       "      <td>-36.4</td>\n",
       "      <td>4.857</td>\n",
       "      <td>5191.0</td>\n",
       "      <td>...</td>\n",
       "      <td>0</td>\n",
       "      <td>0</td>\n",
       "      <td>1</td>\n",
       "      <td>0</td>\n",
       "      <td>0</td>\n",
       "      <td>0</td>\n",
       "      <td>0</td>\n",
       "      <td>1</td>\n",
       "      <td>0</td>\n",
       "      <td>0</td>\n",
       "    </tr>\n",
       "    <tr>\n",
       "      <th>4</th>\n",
       "      <td>56</td>\n",
       "      <td>307</td>\n",
       "      <td>1</td>\n",
       "      <td>999</td>\n",
       "      <td>0</td>\n",
       "      <td>1.1</td>\n",
       "      <td>93.994</td>\n",
       "      <td>-36.4</td>\n",
       "      <td>4.857</td>\n",
       "      <td>5191.0</td>\n",
       "      <td>...</td>\n",
       "      <td>0</td>\n",
       "      <td>0</td>\n",
       "      <td>1</td>\n",
       "      <td>0</td>\n",
       "      <td>0</td>\n",
       "      <td>0</td>\n",
       "      <td>0</td>\n",
       "      <td>1</td>\n",
       "      <td>0</td>\n",
       "      <td>0</td>\n",
       "    </tr>\n",
       "  </tbody>\n",
       "</table>\n",
       "<p>5 rows × 64 columns</p>\n",
       "</div>"
      ],
      "text/plain": [
       "   age  duration  campaign  pdays  previous  emp.var.rate  cons.price.idx  \\\n",
       "0   56       261         1    999         0           1.1          93.994   \n",
       "1   57       149         1    999         0           1.1          93.994   \n",
       "2   37       226         1    999         0           1.1          93.994   \n",
       "3   40       151         1    999         0           1.1          93.994   \n",
       "4   56       307         1    999         0           1.1          93.994   \n",
       "\n",
       "   cons.conf.idx  euribor3m  nr.employed ...  sep  fri  mon  thu  tue  wed  \\\n",
       "0          -36.4      4.857       5191.0 ...    0    0    1    0    0    0   \n",
       "1          -36.4      4.857       5191.0 ...    0    0    1    0    0    0   \n",
       "2          -36.4      4.857       5191.0 ...    0    0    1    0    0    0   \n",
       "3          -36.4      4.857       5191.0 ...    0    0    1    0    0    0   \n",
       "4          -36.4      4.857       5191.0 ...    0    0    1    0    0    0   \n",
       "\n",
       "   failure  nonexistent  success  y  \n",
       "0        0            1        0  0  \n",
       "1        0            1        0  0  \n",
       "2        0            1        0  0  \n",
       "3        0            1        0  0  \n",
       "4        0            1        0  0  \n",
       "\n",
       "[5 rows x 64 columns]"
      ]
     },
     "execution_count": 33,
     "metadata": {},
     "output_type": "execute_result"
    }
   ],
   "source": [
    "banking.head()"
   ]
  },
  {
   "cell_type": "code",
   "execution_count": 3,
   "metadata": {},
   "outputs": [],
   "source": []
  },
  {
   "cell_type": "code",
   "execution_count": 37,
   "metadata": {},
   "outputs": [
    {
     "data": {
      "text/plain": [
       "(32950, 63)"
      ]
     },
     "execution_count": 37,
     "metadata": {},
     "output_type": "execute_result"
    }
   ],
   "source": [
    "X_train.shape"
   ]
  },
  {
   "cell_type": "code",
   "execution_count": 40,
   "metadata": {},
   "outputs": [
    {
     "name": "stdout",
     "output_type": "stream",
     "text": [
      "0.8936635105608157\n",
      "0.8935421218742413\n"
     ]
    }
   ],
   "source": [
    "from sklearn.ensemble import RandomForestClassifier\n",
    "from sklearn.tree import DecisionTreeClassifier\n",
    "\n",
    "#from sklearn.ensemble import GradientBoostingClassifier\n",
    "from sklearn.model_selection import train_test_split\n",
    "#from sklearn.model_selection import GridSearchCV\n",
    "#from sklearn.pipeline import make_pipeline\n",
    "\n",
    "\n",
    "Xb = banking.iloc[:, :-1]\n",
    "yb = banking.iloc[:, -1]\n",
    "\n",
    "X_train, X_test, y_train, y_test = train_test_split(Xb, yb, test_size = 0.2, random_state = 1)\n",
    "\n",
    "\n",
    "\n",
    "rfc = RandomForestClassifier(n_estimators=20, bootstrap=False, max_features=63, random_state=1)\n",
    "rfc.fit(X_train,y_train)\n",
    "\n",
    "dtc = DecisionTreeClassifier(max_features=63,  random_state=1)\n",
    "dtc.fit(X_train,y_train)\n",
    "\n",
    "\n",
    "print(rfc.score(X_test,y_test))\n",
    "print(dtc.score(X_test,y_test))"
   ]
  },
  {
   "cell_type": "markdown",
   "metadata": {},
   "source": [
    "Using the banking dataset a single tree and a forest behave almost the same way"
   ]
  },
  {
   "cell_type": "code",
   "execution_count": 41,
   "metadata": {},
   "outputs": [
    {
     "name": "stdout",
     "output_type": "stream",
     "text": [
      "0.3907935710870197\n"
     ]
    }
   ],
   "source": [
    "rfc = RandomForestClassifier(n_estimators=20)\n",
    "rfc.fit(X_train,y_train);\n",
    "\n",
    "from scipy.stats.stats import pearsonr\n",
    "tree_9 = rfc.estimators_[8].predict(X_test)\n",
    "ytest_15 = rfc.estimators_[14].predict(X_test)\n",
    "pr=pearsonr(tree_9, ytest_15)\n",
    "print(pr[0])"
   ]
  },
  {
   "cell_type": "markdown",
   "metadata": {},
   "source": [
    "< 1 => trees are not completelty correlated"
   ]
  },
  {
   "cell_type": "markdown",
   "metadata": {},
   "source": [
    "Question 2:"
   ]
  },
  {
   "cell_type": "code",
   "execution_count": 42,
   "metadata": {},
   "outputs": [],
   "source": [
    "from sklearn.model_selection import GridSearchCV\n",
    "\n",
    "\n",
    "\n",
    "parameter_gridsearch = {\n",
    "                 'max_depth' : [3, 5, 7, 15], \n",
    "                 #'n_estimators': [50],  \n",
    "                 #'max_features': ['sqrt', 'auto', 'log2'],      \n",
    "                 'min_samples_split': [2, 6, 8],      \n",
    "                 'min_samples_leaf': [2, 4, 8, 12]\n",
    "                # 'bootstrap': [True, False],\n",
    "                 }\n",
    "\n",
    "randomforest = RandomForestClassifier(n_estimators=50)\n",
    "\n",
    "\n",
    "gridsearch = GridSearchCV(randomforest,                                 \n",
    "                               scoring='accuracy',\n",
    "                               param_grid=parameter_gridsearch)\n",
    "\n",
    "\n",
    "gridsearch.fit(X_train, y_train) \n",
    "parameters = gridsearch.best_params_"
   ]
  },
  {
   "cell_type": "code",
   "execution_count": 43,
   "metadata": {},
   "outputs": [
    {
     "data": {
      "text/plain": [
       "{'max_depth': 15, 'min_samples_leaf': 4, 'min_samples_split': 6}"
      ]
     },
     "execution_count": 43,
     "metadata": {},
     "output_type": "execute_result"
    }
   ],
   "source": [
    "#The optimal parameters found by grid search\n",
    "parameters"
   ]
  },
  {
   "cell_type": "code",
   "execution_count": 44,
   "metadata": {},
   "outputs": [
    {
     "data": {
      "text/plain": [
       "0.9121145909201263"
      ]
     },
     "execution_count": 44,
     "metadata": {},
     "output_type": "execute_result"
    }
   ],
   "source": [
    "gridsearch.score(X_test, y_test)"
   ]
  },
  {
   "cell_type": "markdown",
   "metadata": {},
   "source": [
    "Question 3:"
   ]
  },
  {
   "cell_type": "code",
   "execution_count": 57,
   "metadata": {},
   "outputs": [],
   "source": [
    "from sklearn.datasets.california_housing import fetch_california_housing\n",
    "\n",
    "cal_housing = fetch_california_housing()\n",
    "names = cal_housing.feature_names"
   ]
  },
  {
   "cell_type": "code",
   "execution_count": 58,
   "metadata": {},
   "outputs": [
    {
     "data": {
      "text/plain": [
       "['MedInc',\n",
       " 'HouseAge',\n",
       " 'AveRooms',\n",
       " 'AveBedrms',\n",
       " 'Population',\n",
       " 'AveOccup',\n",
       " 'Latitude',\n",
       " 'Longitude']"
      ]
     },
     "execution_count": 58,
     "metadata": {},
     "output_type": "execute_result"
    }
   ],
   "source": [
    "names"
   ]
  },
  {
   "cell_type": "code",
   "execution_count": 82,
   "metadata": {},
   "outputs": [
    {
     "data": {
      "text/plain": [
       "Text(0,0.5,'Longitude')"
      ]
     },
     "execution_count": 82,
     "metadata": {},
     "output_type": "execute_result"
    },
    {
     "data": {
      "image/png": "[encoded data removed]",
      "text/plain": [
       "<matplotlib.figure.Figure at 0xc063710>"
      ]
     },
     "metadata": {
      "image/png": {
       "height": 263,
       "width": 335
      }
     },
     "output_type": "display_data"
    }
   ],
   "source": [
    "import matplotlib.pyplot as plt\n",
    "\n",
    "x_index = 7\n",
    "y_index = 6\n",
    "\n",
    "labels = ['b', 'r']\n",
    "\n",
    "#y = np.take([0, 1], (y < 1))\n",
    "\n",
    "y_label = np.take(labels, (cal_housing.target < 1.5))\n",
    "\n",
    "\n",
    "plt.figure(figsize=(5, 4))\n",
    "plt.scatter(cal_housing.data[:, x_index], cal_housing.data[:, y_index], c=y_label, lw=0, s=40)\n",
    "\n",
    "\n",
    "plt.xlabel('Latitude')\n",
    "plt.ylabel('Longitude')"
   ]
  },
  {
   "cell_type": "code",
   "execution_count": 84,
   "metadata": {},
   "outputs": [
    {
     "name": "stdout",
     "output_type": "stream",
     "text": [
      "0.8074861006856635\n",
      "0.8110437728614738\n",
      "0.8276699065187779\n"
     ]
    }
   ],
   "source": [
    "from sklearn.ensemble import RandomForestRegressor, ExtraTreesRegressor, GradientBoostingRegressor\n",
    "\n",
    "X_train, X_test, y_train, y_test = train_test_split(cal_housing.data, cal_housing.target, test_size=0.2, random_state=1)\n",
    "names = cal_housing.feature_names\n",
    "rfc = RandomForestRegressor(n_estimators=300)\n",
    "etr = ExtraTreesRegressor(n_estimators=300)\n",
    "gbr = GradientBoostingRegressor(learning_rate=0.2, n_estimators=300)\n",
    "\n",
    "rfc.fit(X_train, y_train)\n",
    "etr.fit(X_train, y_train)\n",
    "gbr.fit(X_train, y_train)\n",
    "\n",
    "\n",
    "\n",
    "\n",
    "print(rfc.score(X_test,y_test))\n",
    "print(etr.score(X_test,y_test))\n",
    "print(gbr.score(X_test,y_test))\n"
   ]
  },
  {
   "cell_type": "code",
   "execution_count": 90,
   "metadata": {},
   "outputs": [
    {
     "data": {
      "text/plain": [
       "8"
      ]
     },
     "execution_count": 90,
     "metadata": {},
     "output_type": "execute_result"
    }
   ],
   "source": [
    "len(rfc.feature_importances_)\n",
    "ks = np.arange(1, len(rfc.feature_importances_)+1, 1)\n",
    "len(ks)"
   ]
  },
  {
   "cell_type": "markdown",
   "metadata": {},
   "source": [
    "Feature importance obtained with different methods:"
   ]
  },
  {
   "cell_type": "code",
   "execution_count": 99,
   "metadata": {},
   "outputs": [
    {
     "data": {
      "image/png": "[encoded data removed]",
      "text/plain": [
       "<matplotlib.figure.Figure at 0x119d1320>"
      ]
     },
     "metadata": {
      "image/png": {
       "height": 902,
       "width": 931
      }
     },
     "output_type": "display_data"
    }
   ],
   "source": [
    "import matplotlib.pyplot as plt\n",
    "\n",
    "ks = np.arange(1, len(rfc.feature_importances_)+1, 1)\n",
    "\n",
    "fig=plt.bar(ks, rfc.feature_importances_)\n",
    "plt.xticks(ks, cal_housing.feature_names)\n",
    "plt.rcParams[\"figure.figsize\"] = (16, 16)\n",
    "#fig.set_size_inches(18.5, 10.5)\n",
    "\n",
    "plt.show()\n"
   ]
  },
  {
   "cell_type": "code",
   "execution_count": 100,
   "metadata": {},
   "outputs": [
    {
     "data": {
      "image/png": "[encoded data removed]",
      "text/plain": [
       "<matplotlib.figure.Figure at 0x12914e10>"
      ]
     },
     "metadata": {
      "image/png": {
       "height": 902,
       "width": 931
      }
     },
     "output_type": "display_data"
    }
   ],
   "source": [
    "import matplotlib.pyplot as plt\n",
    "\n",
    "ks = np.arange(1, len(etr.feature_importances_)+1, 1)\n",
    "\n",
    "fig=plt.bar(ks, etr.feature_importances_)\n",
    "plt.xticks(ks, cal_housing.feature_names)\n",
    "plt.rcParams[\"figure.figsize\"] = (16, 16)\n",
    "#fig.set_size_inches(18.5, 10.5)\n",
    "\n",
    "plt.show()\n"
   ]
  },
  {
   "cell_type": "code",
   "execution_count": 101,
   "metadata": {},
   "outputs": [
    {
     "data": {
      "image/png": "[encoded data removed]",
      "text/plain": [
       "<matplotlib.figure.Figure at 0xd80d240>"
      ]
     },
     "metadata": {
      "image/png": {
       "height": 902,
       "width": 944
      }
     },
     "output_type": "display_data"
    }
   ],
   "source": [
    "import matplotlib.pyplot as plt\n",
    "\n",
    "ks = np.arange(1, len(gbr.feature_importances_)+1, 1)\n",
    "\n",
    "fig=plt.bar(ks, gbr.feature_importances_)\n",
    "plt.xticks(ks, cal_housing.feature_names)\n",
    "plt.rcParams[\"figure.figsize\"] = (16, 16)\n",
    "#fig.set_size_inches(18.5, 10.5)\n",
    "\n",
    "plt.show()\n"
   ]
  },
  {
   "cell_type": "markdown",
   "metadata": {},
   "source": [
    "Question 4:"
   ]
  },
  {
   "cell_type": "code",
   "execution_count": 103,
   "metadata": {},
   "outputs": [
    {
     "data": {
      "text/html": [
       "<div>\n",
       "<style scoped>\n",
       "    .dataframe tbody tr th:only-of-type {\n",
       "        vertical-align: middle;\n",
       "    }\n",
       "\n",
       "    .dataframe tbody tr th {\n",
       "        vertical-align: top;\n",
       "    }\n",
       "\n",
       "    .dataframe thead th {\n",
       "        text-align: right;\n",
       "    }\n",
       "</style>\n",
       "<table border=\"1\" class=\"dataframe\">\n",
       "  <thead>\n",
       "    <tr style=\"text-align: right;\">\n",
       "      <th></th>\n",
       "      <th>0</th>\n",
       "      <th>1</th>\n",
       "      <th>2</th>\n",
       "      <th>3</th>\n",
       "      <th>4</th>\n",
       "      <th>5</th>\n",
       "      <th>6</th>\n",
       "      <th>7</th>\n",
       "      <th>8</th>\n",
       "      <th>9</th>\n",
       "      <th>...</th>\n",
       "      <th>39</th>\n",
       "      <th>40</th>\n",
       "      <th>41</th>\n",
       "      <th>42</th>\n",
       "      <th>43</th>\n",
       "      <th>44</th>\n",
       "      <th>45</th>\n",
       "      <th>46</th>\n",
       "      <th>47</th>\n",
       "      <th>48</th>\n",
       "    </tr>\n",
       "  </thead>\n",
       "  <tbody>\n",
       "    <tr>\n",
       "      <th>0</th>\n",
       "      <td>0.000576</td>\n",
       "      <td>0.999939</td>\n",
       "      <td>12.769232</td>\n",
       "      <td>0.584357</td>\n",
       "      <td>0.136273</td>\n",
       "      <td>13.359463</td>\n",
       "      <td>3.358099</td>\n",
       "      <td>14655.587891</td>\n",
       "      <td>0.005370</td>\n",
       "      <td>0.041032</td>\n",
       "      <td>...</td>\n",
       "      <td>58935.695312</td>\n",
       "      <td>74241.648438</td>\n",
       "      <td>4598.116699</td>\n",
       "      <td>2.897916</td>\n",
       "      <td>2.932629</td>\n",
       "      <td>3.193417</td>\n",
       "      <td>267</td>\n",
       "      <td>-99</td>\n",
       "      <td>0.381424</td>\n",
       "      <td>0</td>\n",
       "    </tr>\n",
       "    <tr>\n",
       "      <th>1</th>\n",
       "      <td>0.001807</td>\n",
       "      <td>0.999996</td>\n",
       "      <td>18.585171</td>\n",
       "      <td>0.368892</td>\n",
       "      <td>0.054991</td>\n",
       "      <td>3.600483</td>\n",
       "      <td>6.781577</td>\n",
       "      <td>4145.290527</td>\n",
       "      <td>0.030382</td>\n",
       "      <td>0.034570</td>\n",
       "      <td>...</td>\n",
       "      <td>20553.839844</td>\n",
       "      <td>12501.964844</td>\n",
       "      <td>28162.607422</td>\n",
       "      <td>3.584545</td>\n",
       "      <td>3.010242</td>\n",
       "      <td>3.322494</td>\n",
       "      <td>128</td>\n",
       "      <td>1</td>\n",
       "      <td>0.781520</td>\n",
       "      <td>1</td>\n",
       "    </tr>\n",
       "    <tr>\n",
       "      <th>2</th>\n",
       "      <td>0.000858</td>\n",
       "      <td>0.999304</td>\n",
       "      <td>4.794842</td>\n",
       "      <td>0.149876</td>\n",
       "      <td>0.172385</td>\n",
       "      <td>16.130068</td>\n",
       "      <td>3.723242</td>\n",
       "      <td>4936.734375</td>\n",
       "      <td>0.017344</td>\n",
       "      <td>0.027622</td>\n",
       "      <td>...</td>\n",
       "      <td>7566.020020</td>\n",
       "      <td>11801.971680</td>\n",
       "      <td>16086.186523</td>\n",
       "      <td>2.700943</td>\n",
       "      <td>2.920070</td>\n",
       "      <td>2.407294</td>\n",
       "      <td>254</td>\n",
       "      <td>-99</td>\n",
       "      <td>0.508650</td>\n",
       "      <td>0</td>\n",
       "    </tr>\n",
       "    <tr>\n",
       "      <th>3</th>\n",
       "      <td>0.001519</td>\n",
       "      <td>0.999969</td>\n",
       "      <td>15.656528</td>\n",
       "      <td>0.312301</td>\n",
       "      <td>0.125831</td>\n",
       "      <td>8.113082</td>\n",
       "      <td>5.763765</td>\n",
       "      <td>4948.376465</td>\n",
       "      <td>0.035185</td>\n",
       "      <td>0.038973</td>\n",
       "      <td>...</td>\n",
       "      <td>19161.880859</td>\n",
       "      <td>18598.472656</td>\n",
       "      <td>17658.548828</td>\n",
       "      <td>3.108439</td>\n",
       "      <td>2.932674</td>\n",
       "      <td>3.164568</td>\n",
       "      <td>531</td>\n",
       "      <td>-99</td>\n",
       "      <td>0.682114</td>\n",
       "      <td>0</td>\n",
       "    </tr>\n",
       "    <tr>\n",
       "      <th>4</th>\n",
       "      <td>0.000936</td>\n",
       "      <td>0.999978</td>\n",
       "      <td>8.998086</td>\n",
       "      <td>0.475861</td>\n",
       "      <td>0.065347</td>\n",
       "      <td>3.863127</td>\n",
       "      <td>3.675261</td>\n",
       "      <td>4757.155762</td>\n",
       "      <td>0.022795</td>\n",
       "      <td>0.046165</td>\n",
       "      <td>...</td>\n",
       "      <td>12651.365234</td>\n",
       "      <td>33099.660156</td>\n",
       "      <td>10722.979492</td>\n",
       "      <td>2.873017</td>\n",
       "      <td>3.074762</td>\n",
       "      <td>4.136894</td>\n",
       "      <td>160</td>\n",
       "      <td>5</td>\n",
       "      <td>0.633693</td>\n",
       "      <td>1</td>\n",
       "    </tr>\n",
       "  </tbody>\n",
       "</table>\n",
       "<p>5 rows × 49 columns</p>\n",
       "</div>"
      ],
      "text/plain": [
       "         0         1          2         3         4          5         6   \\\n",
       "0  0.000576  0.999939  12.769232  0.584357  0.136273  13.359463  3.358099   \n",
       "1  0.001807  0.999996  18.585171  0.368892  0.054991   3.600483  6.781577   \n",
       "2  0.000858  0.999304   4.794842  0.149876  0.172385  16.130068  3.723242   \n",
       "3  0.001519  0.999969  15.656528  0.312301  0.125831   8.113082  5.763765   \n",
       "4  0.000936  0.999978   8.998086  0.475861  0.065347   3.863127  3.675261   \n",
       "\n",
       "             7         8         9  ...            39            40  \\\n",
       "0  14655.587891  0.005370  0.041032 ...  58935.695312  74241.648438   \n",
       "1   4145.290527  0.030382  0.034570 ...  20553.839844  12501.964844   \n",
       "2   4936.734375  0.017344  0.027622 ...   7566.020020  11801.971680   \n",
       "3   4948.376465  0.035185  0.038973 ...  19161.880859  18598.472656   \n",
       "4   4757.155762  0.022795  0.046165 ...  12651.365234  33099.660156   \n",
       "\n",
       "             41        42        43        44   45  46        47  48  \n",
       "0   4598.116699  2.897916  2.932629  3.193417  267 -99  0.381424   0  \n",
       "1  28162.607422  3.584545  3.010242  3.322494  128   1  0.781520   1  \n",
       "2  16086.186523  2.700943  2.920070  2.407294  254 -99  0.508650   0  \n",
       "3  17658.548828  3.108439  2.932674  3.164568  531 -99  0.682114   0  \n",
       "4  10722.979492  2.873017  3.074762  4.136894  160   5  0.633693   1  \n",
       "\n",
       "[5 rows x 49 columns]"
      ]
     },
     "execution_count": 103,
     "metadata": {},
     "output_type": "execute_result"
    }
   ],
   "source": [
    "df_train = pd.read_csv('C:/Users/Evgeniy/Desktop/Advanced computing/challenge-train.csv', header=None)\n",
    "df_train.head()"
   ]
  },
  {
   "cell_type": "code",
   "execution_count": 104,
   "metadata": {},
   "outputs": [
    {
     "data": {
      "text/html": [
       "<div>\n",
       "<style scoped>\n",
       "    .dataframe tbody tr th:only-of-type {\n",
       "        vertical-align: middle;\n",
       "    }\n",
       "\n",
       "    .dataframe tbody tr th {\n",
       "        vertical-align: top;\n",
       "    }\n",
       "\n",
       "    .dataframe thead th {\n",
       "        text-align: right;\n",
       "    }\n",
       "</style>\n",
       "<table border=\"1\" class=\"dataframe\">\n",
       "  <thead>\n",
       "    <tr style=\"text-align: right;\">\n",
       "      <th></th>\n",
       "      <th>0</th>\n",
       "      <th>1</th>\n",
       "      <th>2</th>\n",
       "      <th>3</th>\n",
       "      <th>4</th>\n",
       "      <th>5</th>\n",
       "      <th>6</th>\n",
       "      <th>7</th>\n",
       "      <th>8</th>\n",
       "      <th>9</th>\n",
       "      <th>...</th>\n",
       "      <th>38</th>\n",
       "      <th>39</th>\n",
       "      <th>40</th>\n",
       "      <th>41</th>\n",
       "      <th>42</th>\n",
       "      <th>43</th>\n",
       "      <th>44</th>\n",
       "      <th>45</th>\n",
       "      <th>47</th>\n",
       "      <th>48</th>\n",
       "    </tr>\n",
       "  </thead>\n",
       "  <tbody>\n",
       "    <tr>\n",
       "      <th>0</th>\n",
       "      <td>0.000576</td>\n",
       "      <td>0.999939</td>\n",
       "      <td>12.769232</td>\n",
       "      <td>0.584357</td>\n",
       "      <td>0.136273</td>\n",
       "      <td>13.359463</td>\n",
       "      <td>3.358099</td>\n",
       "      <td>14655.587891</td>\n",
       "      <td>0.005370</td>\n",
       "      <td>0.041032</td>\n",
       "      <td>...</td>\n",
       "      <td>376.700348</td>\n",
       "      <td>58935.695312</td>\n",
       "      <td>74241.648438</td>\n",
       "      <td>4598.116699</td>\n",
       "      <td>2.897916</td>\n",
       "      <td>2.932629</td>\n",
       "      <td>3.193417</td>\n",
       "      <td>267</td>\n",
       "      <td>0.381424</td>\n",
       "      <td>0</td>\n",
       "    </tr>\n",
       "    <tr>\n",
       "      <th>1</th>\n",
       "      <td>0.001807</td>\n",
       "      <td>0.999996</td>\n",
       "      <td>18.585171</td>\n",
       "      <td>0.368892</td>\n",
       "      <td>0.054991</td>\n",
       "      <td>3.600483</td>\n",
       "      <td>6.781577</td>\n",
       "      <td>4145.290527</td>\n",
       "      <td>0.030382</td>\n",
       "      <td>0.034570</td>\n",
       "      <td>...</td>\n",
       "      <td>2028.605591</td>\n",
       "      <td>20553.839844</td>\n",
       "      <td>12501.964844</td>\n",
       "      <td>28162.607422</td>\n",
       "      <td>3.584545</td>\n",
       "      <td>3.010242</td>\n",
       "      <td>3.322494</td>\n",
       "      <td>128</td>\n",
       "      <td>0.781520</td>\n",
       "      <td>1</td>\n",
       "    </tr>\n",
       "    <tr>\n",
       "      <th>2</th>\n",
       "      <td>0.000858</td>\n",
       "      <td>0.999304</td>\n",
       "      <td>4.794842</td>\n",
       "      <td>0.149876</td>\n",
       "      <td>0.172385</td>\n",
       "      <td>16.130068</td>\n",
       "      <td>3.723242</td>\n",
       "      <td>4936.734375</td>\n",
       "      <td>0.017344</td>\n",
       "      <td>0.027622</td>\n",
       "      <td>...</td>\n",
       "      <td>2874.089600</td>\n",
       "      <td>7566.020020</td>\n",
       "      <td>11801.971680</td>\n",
       "      <td>16086.186523</td>\n",
       "      <td>2.700943</td>\n",
       "      <td>2.920070</td>\n",
       "      <td>2.407294</td>\n",
       "      <td>254</td>\n",
       "      <td>0.508650</td>\n",
       "      <td>0</td>\n",
       "    </tr>\n",
       "    <tr>\n",
       "      <th>3</th>\n",
       "      <td>0.001519</td>\n",
       "      <td>0.999969</td>\n",
       "      <td>15.656528</td>\n",
       "      <td>0.312301</td>\n",
       "      <td>0.125831</td>\n",
       "      <td>8.113082</td>\n",
       "      <td>5.763765</td>\n",
       "      <td>4948.376465</td>\n",
       "      <td>0.035185</td>\n",
       "      <td>0.038973</td>\n",
       "      <td>...</td>\n",
       "      <td>1488.869995</td>\n",
       "      <td>19161.880859</td>\n",
       "      <td>18598.472656</td>\n",
       "      <td>17658.548828</td>\n",
       "      <td>3.108439</td>\n",
       "      <td>2.932674</td>\n",
       "      <td>3.164568</td>\n",
       "      <td>531</td>\n",
       "      <td>0.682114</td>\n",
       "      <td>0</td>\n",
       "    </tr>\n",
       "    <tr>\n",
       "      <th>4</th>\n",
       "      <td>0.000936</td>\n",
       "      <td>0.999978</td>\n",
       "      <td>8.998086</td>\n",
       "      <td>0.475861</td>\n",
       "      <td>0.065347</td>\n",
       "      <td>3.863127</td>\n",
       "      <td>3.675261</td>\n",
       "      <td>4757.155762</td>\n",
       "      <td>0.022795</td>\n",
       "      <td>0.046165</td>\n",
       "      <td>...</td>\n",
       "      <td>342.455688</td>\n",
       "      <td>12651.365234</td>\n",
       "      <td>33099.660156</td>\n",
       "      <td>10722.979492</td>\n",
       "      <td>2.873017</td>\n",
       "      <td>3.074762</td>\n",
       "      <td>4.136894</td>\n",
       "      <td>160</td>\n",
       "      <td>0.633693</td>\n",
       "      <td>1</td>\n",
       "    </tr>\n",
       "  </tbody>\n",
       "</table>\n",
       "<p>5 rows × 48 columns</p>\n",
       "</div>"
      ],
      "text/plain": [
       "         0         1          2         3         4          5         6   \\\n",
       "0  0.000576  0.999939  12.769232  0.584357  0.136273  13.359463  3.358099   \n",
       "1  0.001807  0.999996  18.585171  0.368892  0.054991   3.600483  6.781577   \n",
       "2  0.000858  0.999304   4.794842  0.149876  0.172385  16.130068  3.723242   \n",
       "3  0.001519  0.999969  15.656528  0.312301  0.125831   8.113082  5.763765   \n",
       "4  0.000936  0.999978   8.998086  0.475861  0.065347   3.863127  3.675261   \n",
       "\n",
       "             7         8         9  ...           38            39  \\\n",
       "0  14655.587891  0.005370  0.041032 ...   376.700348  58935.695312   \n",
       "1   4145.290527  0.030382  0.034570 ...  2028.605591  20553.839844   \n",
       "2   4936.734375  0.017344  0.027622 ...  2874.089600   7566.020020   \n",
       "3   4948.376465  0.035185  0.038973 ...  1488.869995  19161.880859   \n",
       "4   4757.155762  0.022795  0.046165 ...   342.455688  12651.365234   \n",
       "\n",
       "             40            41        42        43        44   45        47  48  \n",
       "0  74241.648438   4598.116699  2.897916  2.932629  3.193417  267  0.381424   0  \n",
       "1  12501.964844  28162.607422  3.584545  3.010242  3.322494  128  0.781520   1  \n",
       "2  11801.971680  16086.186523  2.700943  2.920070  2.407294  254  0.508650   0  \n",
       "3  18598.472656  17658.548828  3.108439  2.932674  3.164568  531  0.682114   0  \n",
       "4  33099.660156  10722.979492  2.873017  3.074762  4.136894  160  0.633693   1  \n",
       "\n",
       "[5 rows x 48 columns]"
      ]
     },
     "execution_count": 104,
     "metadata": {},
     "output_type": "execute_result"
    }
   ],
   "source": [
    "df_train.drop(df_train.columns[[46]], axis=1, inplace=True)\n",
    "df_train.head()"
   ]
  },
  {
   "cell_type": "code",
   "execution_count": 122,
   "metadata": {},
   "outputs": [],
   "source": [
    "X = df_train.as_matrix()[:, :-1]\n",
    "y = df_train.as_matrix()[:, -1]"
   ]
  },
  {
   "cell_type": "code",
   "execution_count": 106,
   "metadata": {},
   "outputs": [
    {
     "data": {
      "text/plain": [
       "(45000, 47)"
      ]
     },
     "execution_count": 106,
     "metadata": {},
     "output_type": "execute_result"
    }
   ],
   "source": [
    "X.shape"
   ]
  },
  {
   "cell_type": "code",
   "execution_count": 123,
   "metadata": {},
   "outputs": [],
   "source": [
    "from sklearn.ensemble import RandomForestClassifier\n",
    "\n",
    "from sklearn.ensemble import GradientBoostingClassifier\n",
    "from sklearn.model_selection import train_test_split\n",
    "from sklearn.model_selection import GridSearchCV\n",
    "from sklearn.pipeline import make_pipeline\n",
    "\n",
    "\n",
    "\n",
    "X_train, X_test, y_train, y_test = train_test_split(X, y, test_size = 0.2, random_state = 1)\n",
    "\n",
    "\n",
    "\n",
    "\n",
    "parameter_gridsearch = {\n",
    "                 'max_depth' : [ 5, 15, 25], \n",
    "                 'n_estimators': [50],  \n",
    "                 #'max_features': ['sqrt', 'auto', 'log2'],      \n",
    "                 'min_samples_split': [2, 6, 8],      \n",
    "                 'min_samples_leaf': [2, 4, 8],\n",
    "                # 'bootstrap': [True, False],\n",
    "                 }\n",
    "\n",
    "randomforest = RandomForestClassifier(max_features='sqrt')\n",
    "#crossvalidation = StratifiedKFold(train[0::,0] , n_folds=5)\n",
    "\n",
    "gridsearch = GridSearchCV(randomforest,                                 \n",
    "                               scoring='roc_auc',\n",
    "                               param_grid=parameter_gridsearch)\n",
    "\n",
    "\n",
    "gridsearch.fit(X_train, y_train)    #train[0::,0] is as target\n",
    "#model = gridsearch\n",
    "parameters = gridsearch.best_params_\n",
    "\n",
    "\n",
    "\n",
    "\n",
    "#clf = RandomForestClassifier(n_estimators=20, max_depth=7, random_state=1)\n",
    "#clf.fit(X_train, y_train);\n",
    "#clf.score(X_test,y_test)"
   ]
  },
  {
   "cell_type": "code",
   "execution_count": 124,
   "metadata": {},
   "outputs": [
    {
     "data": {
      "text/plain": [
       "{'max_depth': 25,\n",
       " 'min_samples_leaf': 2,\n",
       " 'min_samples_split': 8,\n",
       " 'n_estimators': 50}"
      ]
     },
     "execution_count": 124,
     "metadata": {},
     "output_type": "execute_result"
    }
   ],
   "source": [
    "parameters"
   ]
  },
  {
   "cell_type": "code",
   "execution_count": 125,
   "metadata": {},
   "outputs": [
    {
     "data": {
      "text/plain": [
       "0.9562153475170091"
      ]
     },
     "execution_count": 125,
     "metadata": {},
     "output_type": "execute_result"
    }
   ],
   "source": [
    "gridsearch.score(X_test, y_test)"
   ]
  },
  {
   "cell_type": "code",
   "execution_count": 119,
   "metadata": {},
   "outputs": [],
   "source": [
    "parameter_gridsearch = {\n",
    "                 'learning_rate' : [0.1, 0.01], \n",
    "                 #'n_estimators': [100,500],  \n",
    "                 'max_depth': [5, 15],      \n",
    "                 #'min_samples_split': [2],      \n",
    "                 'min_samples_leaf': [10,20],\n",
    "               \n",
    "                 }\n",
    "\n",
    "GB = GradientBoostingClassifier(n_estimators=50)\n",
    "#crossvalidation = StratifiedKFold(train[0::,0] , n_folds=5)\n",
    "\n",
    "gridsearch = GridSearchCV(GB,                  \n",
    "                               scoring='roc_auc',\n",
    "                               param_grid=parameter_gridsearch)\n",
    "\n",
    "\n",
    "gridsearch.fit(X_train, y_train)    \n",
    "#model = gridsearch\n",
    "parameters = gridsearch.best_params_"
   ]
  },
  {
   "cell_type": "code",
   "execution_count": 120,
   "metadata": {},
   "outputs": [
    {
     "data": {
      "text/plain": [
       "{'learning_rate': 0.1, 'max_depth': 5, 'min_samples_leaf': 10}"
      ]
     },
     "execution_count": 120,
     "metadata": {},
     "output_type": "execute_result"
    }
   ],
   "source": [
    "parameters"
   ]
  },
  {
   "cell_type": "code",
   "execution_count": 121,
   "metadata": {},
   "outputs": [
    {
     "data": {
      "text/plain": [
       "0.9481318520446339"
      ]
     },
     "execution_count": 121,
     "metadata": {},
     "output_type": "execute_result"
    }
   ],
   "source": [
    "gridsearch.score(X_test, y_test)"
   ]
  },
  {
   "cell_type": "code",
   "execution_count": 130,
   "metadata": {},
   "outputs": [
    {
     "name": "stdout",
     "output_type": "stream",
     "text": [
      "0.9943055555555556\n",
      "0.8688888888888889\n"
     ]
    }
   ],
   "source": [
    "from sklearn.model_selection import cross_val_predict\n",
    "from sklearn.preprocessing import FunctionTransformer\n",
    "from sklearn.linear_model import LogisticRegression\n",
    "\n",
    "\n",
    "from sklearn.ensemble import RandomForestClassifier, VotingClassifier\n",
    "from sklearn.ensemble import GradientBoostingClassifier\n",
    "from sklearn.model_selection import train_test_split\n",
    "from sklearn.model_selection import GridSearchCV\n",
    "from sklearn.pipeline import make_pipeline\n",
    "\n",
    "\n",
    "X_train, X_test, y_train, y_test = train_test_split(X, y, test_size = 0.2, random_state = 0)\n",
    "\n",
    "\n",
    "voting = VotingClassifier([('RF',\n",
    "                            RandomForestClassifier(n_estimators=100, max_depth=25, min_samples_leaf=2, min_samples_split=8, random_state=1, max_features='sqrt')),\n",
    "                           ('GB',\n",
    "                            GradientBoostingClassifier(n_estimators=100,learning_rate=0.1, max_depth = 5, min_samples_leaf = 10))\n",
    "                          ],\n",
    "                         voting='soft', flatten_transform=True)\n",
    "\n",
    "stacking = make_pipeline(voting,\n",
    "                         \n",
    "                         FunctionTransformer(lambda X: X[:, 1::2]),\n",
    "                         \n",
    "                         LogisticRegression())\n",
    "stacking.fit(X_train, y_train)\n",
    "print(stacking.score(X_train, y_train))\n",
    "print(stacking.score(X_test, y_test))\n"
   ]
  },
  {
   "cell_type": "code",
   "execution_count": null,
   "metadata": {},
   "outputs": [],
   "source": []
  }
 ],
 "metadata": {
  "kernelspec": {
   "display_name": "Python 3",
   "language": "python",
   "name": "python3"
  },
  "language_info": {
   "codemirror_mode": {
    "name": "ipython",
    "version": 3
   },
   "file_extension": ".py",
   "mimetype": "text/x-python",
   "name": "python",
   "nbconvert_exporter": "python",
   "pygments_lexer": "ipython3",
   "version": "3.6.4"
  }
 },
 "nbformat": 4,
 "nbformat_minor": 2
}
